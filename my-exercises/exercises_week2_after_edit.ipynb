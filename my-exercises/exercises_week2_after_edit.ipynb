{
 "cells": [
  {
   "cell_type": "markdown",
   "metadata": {},
   "source": [
    "> **REMINDER: DO NOT EDIT IF INSIDE CLONED GIT FOLDER**<br>\n",
    "> \\> Go ahead and copy it and paste it in another folder. Work inside the pasted file."
   ]
  },
  {
   "cell_type": "markdown",
   "metadata": {},
   "source": [
    "# Week 2: A Data Scientist's most fundamental tools"
   ]
  },
  {
   "cell_type": "markdown",
   "metadata": {
    "ExecuteTime": {
     "end_time": "2017-08-23T15:30:03.634114Z",
     "start_time": "2017-08-23T15:30:03.629294Z"
    }
   },
   "source": [
    "Today's exercises will be related to chapters 3, 4, 5 from DSfS. The point of these exercises is to refresh your memory on some mathematics and get you comfortable doing computations in code.\n",
    "\n",
    "The exercises today cover:\n",
    "* Basic visualization\n",
    "* Linear algebra\n",
    "* Statistics\n",
    "\n",
    "**Advice**: Some of you may be new to solving problems using code. You may be wondering *what level of detail* I expect in your solutions, your code comments and explanations. **This is the guideline:** Solve the exercises in a manner that allows you to—later in life—use them as examples. This also means that you should add code comments when the code isn't self-explanatory or if you're afraid it won't make sense when you look at it with fresh eyes. You may also want to comment on your output in plain text to capture the conclusions you arrive at throughout your analysis. But express yourself succinctly. To quote (probably) Einstein: *\"Make everything as simple as possible, but not simpler\"*. Finally, when you optimize for your own future comprehension, other people will be able to understand what you did.\n",
    "\n",
    "[**Feedback**](http://ulfaslak.com/vent)"
   ]
  },
  {
   "cell_type": "markdown",
   "metadata": {},
   "source": [
    "## Exercises"
   ]
  },
  {
   "cell_type": "markdown",
   "metadata": {},
   "source": [
    "### Part 1: Visualization (DSFS Chapter 3)"
   ]
  },
  {
   "cell_type": "markdown",
   "metadata": {},
   "source": [
    ">**Ex. 2.1.1**: The figure below meets the minumum style requirements which I expect the figures you make in this class (and life in general) should also meet:\n",
    "* Figure sizing. Try to make the aspect ratio close to 4:3.\n",
    "* Axis labels. Note that you may want to alter the `fontsize` to make them look nice.\n",
    "* Properly sized x and y tick labels.\n",
    "* Title (optional: not always necessary, but oftens helps the reader)\n",
    "* Legend (general rule: only use if you have multiple trends so reader can distinguish).\n",
    ">\n",
    "> Your task in this exercise if to reproduce this figure (perfect match not required).\n",
    ">\n",
    ">*Hint: To get figures to display inside the notebook, use the Jupyter magic `%matplotlib inline`. For pointers on how to make plots like this in Python, Google something like \"scatter plot python\" and see if you can find some examples of how other people do this.*"
   ]
  },
  {
   "cell_type": "markdown",
   "metadata": {},
   "source": [
    "![img](https://ulfaslak.com/computational_analysis_of_big_data/exer_figures/example_2.1.1.png)"
   ]
  },
  {
   "cell_type": "code",
   "execution_count": 1,
   "metadata": {},
   "outputs": [
    {
     "data": {
      "image/png": "[encoded data removed]",
      "text/plain": [
       "<Figure size 432x288 with 1 Axes>"
      ]
     },
     "metadata": {
      "needs_background": "light"
     },
     "output_type": "display_data"
    }
   ],
   "source": [
    "%matplotlib inline\n",
    "import matplotlib.pyplot as plt\n",
    "\n",
    "ls1 = [1,2,3,4,5,6,7,8,9,10]\n",
    "ls2 = [1,2,3,4,5,6,7,8,9,10]\n",
    "plt.scatter(ls1, ls2, label='dots')\n",
    "plt.xlabel('clout', fontsize=18)\n",
    "plt.ylabel('song', fontsize=13)\n",
    "plt.legend(loc='lower left')\n",
    "plt.title('my first plot')\n",
    "plt.show()"
   ]
  },
  {
   "cell_type": "markdown",
   "metadata": {},
   "source": [
    ">**Ex. 2.1.2**: The `get_x_y` function below gives you the number of comments versus score for the latest `N` posts on a given `subreddit`.\n",
    "1. Make a scatter plot of `x` vs. `y` for the \"blackmirror\" subreddit (remember what you learned in the previous exercise about styling). Comment on what you see.\n",
    "2. Maybe you've noticed that it looks pretty bad right? That's because the data does *not scale linearly*! This is a very common thing. To visualize it you should then try to *transform* it somehow. In this case, the data scales *exponentially* in both the x and y direction. Which transformation should we use to make it linear?\n",
    "3. In two seperate figures, floating side by side, scatter plot (left) the set of x and y variables for \"blackmirror\" and (right) x and y for \"news\". Remember to transform the data. My figure looks like [this](http://ulfaslak.com/computational_analysis_of_big_data/exer_figures/example_2.2b.png).\n",
    "4. Comment on any differences you see in the trends. Why might number of comments versus post upvotes look different for a TV-show than for world news?\n",
    ">\n",
    ">*Hint: By \"transformation\" I explicitly mean that you map some function onto every value in a list of values. Example: I can apply a square root transformation like `x = [np.sqrt(v) for v in x]`. A faster way to do that, of course, would be just `x = np.sqrt(x)`.*"
   ]
  },
  {
   "cell_type": "code",
   "execution_count": 2,
   "metadata": {
    "ExecuteTime": {
     "end_time": "2019-01-23T21:28:54.941490Z",
     "start_time": "2019-01-23T21:28:44.166852Z"
    }
   },
   "outputs": [
    {
     "name": "stdout",
     "output_type": "stream",
     "text": [
      "Retrieved 25 posts from page \n",
      "Retrieved 25 posts from page t3_aj4nr3\n",
      "Retrieved 25 posts from page t3_air0w5\n",
      "Retrieved 25 posts from page t3_ainh5o\n",
      "Retrieved 25 posts from page t3_aidqpc\n",
      "Retrieved 25 posts from page t3_ahv6ly\n",
      "Retrieved 25 posts from page t3_ahzhdt\n",
      "Retrieved 25 posts from page t3_ahia41\n",
      "Retrieved 25 posts from page t3_ah7kvm\n",
      "Retrieved 25 posts from page t3_agz8dp\n",
      "Retrieved 25 posts from page t3_agqg2c\n",
      "Retrieved 25 posts from page t3_ago560\n",
      "Retrieved 25 posts from page t3_agitp9\n",
      "Retrieved 25 posts from page t3_agbo1j\n",
      "Retrieved 25 posts from page t3_afykyu\n",
      "Retrieved 25 posts from page t3_ag2v87\n",
      "Retrieved 25 posts from page t3_afcf70\n",
      "Retrieved 25 posts from page t3_afj437\n",
      "Retrieved 25 posts from page t3_afgku6\n",
      "Retrieved 25 posts from page t3_aezqg3\n",
      "Retrieved 25 posts from page \n",
      "Retrieved 25 posts from page t3_aj9522\n",
      "Retrieved 25 posts from page t3_ajd3nn\n",
      "Retrieved 25 posts from page t3_aiuqi0\n",
      "Retrieved 25 posts from page t3_ajd3l2\n",
      "Retrieved 25 posts from page t3_aj1omq\n",
      "Retrieved 25 posts from page t3_aiubxq\n",
      "Retrieved 25 posts from page t3_ainl1p\n",
      "Retrieved 25 posts from page None\n",
      "Retrieved 25 posts from page t3_aj9522\n",
      "Retrieved 25 posts from page t3_ajd3nn\n",
      "Retrieved 25 posts from page t3_aiuqi0\n",
      "Retrieved 25 posts from page t3_ajd3l2\n",
      "Retrieved 25 posts from page t3_aj1omq\n",
      "Retrieved 25 posts from page t3_aiubxq\n",
      "Retrieved 25 posts from page t3_ainl1p\n",
      "Retrieved 25 posts from page None\n",
      "Retrieved 25 posts from page t3_aj9522\n",
      "Retrieved 25 posts from page t3_ajd3nn\n",
      "Retrieved 25 posts from page t3_aiuqi0\n"
     ]
    }
   ],
   "source": [
    "import requests as rq\n",
    "from math import log\n",
    "\n",
    "def get_x_y(subreddit, N, count=25):\n",
    "    \n",
    "    def _get_data(subreddit, count, after):\n",
    "        url = \"https://www.reddit.com/r/%s/.json?count=%d&after=%s\" % (subreddit, count, after)\n",
    "        data = rq.get(url, headers = {'User-agent': 'sneakybot'}).json()\n",
    "        print(\"Retrieved %d posts from page %s\" % (count, after))\n",
    "        return data\n",
    "    \n",
    "    after = \"\"\n",
    "\n",
    "    x, y = [], []\n",
    "    for n in range(N//count):\n",
    "        data = _get_data(subreddit, count, after)\n",
    "        for d in data['data']['children']:\n",
    "            try:\n",
    "                tmp_x = log(d['data']['num_comments'])\n",
    "                tmp_y = log(d['data']['score'])\n",
    "                x.append(tmp_x)\n",
    "                y.append(tmp_y)\n",
    "            except:\n",
    "                tmp_y = 0\n",
    "        after = data['data']['after']\n",
    "    return x, y\n",
    "\n",
    "x = 25\n",
    "x, y = get_x_y(\"blackmirror\", 500, count=25)\n",
    "a, b = get_x_y(\"news\", 500, count=25)"
   ]
  },
  {
   "cell_type": "code",
   "execution_count": 3,
   "metadata": {},
   "outputs": [
    {
     "data": {
      "image/png": "[encoded data removed]",
      "text/plain": [
       "<Figure size 432x288 with 2 Axes>"
      ]
     },
     "metadata": {
      "needs_background": "light"
     },
     "output_type": "display_data"
    }
   ],
   "source": [
    "plt.subplot(1, 2, 1)\n",
    "plt.scatter(x,y)\n",
    "plt.title(\"black mirror\")\n",
    "plt.subplot(1, 2, 2)\n",
    "plt.scatter(a,b)\n",
    "plt.title(\"news\")\n",
    "plt.show()\n",
    "# x is number of comments\n",
    "# y is score\n",
    "# large number of comments is more likely create large number of upvotes for world news. \n",
    "#One theory is that black mirror fans engage with each other more on less popular posts. "
   ]
  },
  {
   "cell_type": "markdown",
   "metadata": {},
   "source": [
    ">**Ex. 2.1.3**: There is clearly a huge level unevenness in the distribution of how likes and comments given to different posts. Let's visualize this using histograms!\n",
    "1. Execute `what_hist_returns = plt.hist(x)`. This should produce a histogram. But what does the variable `what_hist_returns` contain?\n",
    "2. Use `what_hist_returns` to make a similar histogram with the `plt.bar` plotting function.\n",
    "3. Plot the distributions of `np.log(x)` for \"blackmirror\" and \"news\" as histograms, side by side (you can just use the regular `plt.hist` function here). My figure looks like [this](http://ulfaslak.com/computational_analysis_of_big_data/exer_figures/example_2.2c.png). Comment on the result.\n",
    ">\n",
    ">*Hint: If you didn't already know this in your heart, hardcode into it that log(0) == -inf. Because of this, when you make the log transformation of `x`, some of the posts which received zero comments will screw things up. Go ahead and try without dealing with this, and when it fails, either remove zeros from `x` or remove `-inf` values from `np.log(x)`.*"
   ]
  },
  {
   "cell_type": "code",
   "execution_count": 4,
   "metadata": {},
   "outputs": [
    {
     "name": "stdout",
     "output_type": "stream",
     "text": [
      "(array([101., 127., 114.,  23.,  19.,   5.,   0.,   0.,   0.,   1.]), array([0.        , 0.96865746, 1.93731491, 2.90597237, 3.87462982,\n",
      "       4.84328728, 5.81194473, 6.78060219, 7.74925964, 8.7179171 ,\n",
      "       9.68657455]), <a list of 10 Patch objects>)\n"
     ]
    },
    {
     "data": {
      "image/png": "[encoded data removed]",
      "text/plain": [
       "<Figure size 432x288 with 1 Axes>"
      ]
     },
     "metadata": {
      "needs_background": "light"
     },
     "output_type": "display_data"
    }
   ],
   "source": [
    "what_hist_returns = plt.hist(x)\n",
    "#the variable contains the historgram object? i think\n",
    "print(what_hist_returns)"
   ]
  },
  {
   "cell_type": "code",
   "execution_count": null,
   "metadata": {},
   "outputs": [
    {
     "data": {
      "image/png": "[encoded data removed]",
      "text/plain": [
       "<Figure size 432x288 with 1 Axes>"
      ]
     },
     "metadata": {
      "needs_background": "light"
     },
     "output_type": "display_data"
    }
   ],
   "source": [
    "for k in range(0, len(what_hist_returns[0])):\n",
    "    plt.bar(what_hist_returns[1][k],what_hist_returns[0][k])\n",
    "plt.show()\n",
    "    "
   ]
  },
  {
   "cell_type": "code",
   "execution_count": null,
   "metadata": {},
   "outputs": [
    {
     "data": {
      "image/png": "[encoded data removed]",
      "text/plain": [
       "<Figure size 432x288 with 2 Axes>"
      ]
     },
     "metadata": {
      "needs_background": "light"
     },
     "output_type": "display_data"
    }
   ],
   "source": [
    "plt.subplot(1,2,1)\n",
    "plt.hist(x)\n",
    "plt.title('black mirror')\n",
    "plt.ylim(0,140)\n",
    "plt.ylabel('bin count')\n",
    "plt.xlabel('comments (log)')\n",
    "plt.subplot(1,2,2)\n",
    "plt.hist(a, color='orange')\n",
    "plt.title('news')\n",
    "plt.ylim(0,140)\n",
    "plt.xlabel('comments (log)')\n",
    "plt.show()"
   ]
  },
  {
   "cell_type": "markdown",
   "metadata": {},
   "source": [
    "### Part 2: Linear algebra (DSFS Chapter 4)"
   ]
  },
  {
   "cell_type": "markdown",
   "metadata": {},
   "source": [
    ">**Ex. 2.2.1**: What does Joel (book) mean when he uses the word *vector*? What does [Grant](https://youtu.be/fNk_zzaMoSs) mean?\n",
    "\n",
    "Joel refers to vectors as objects that can be added together. Grant offers a more nuanced definition, including the ways that various fields refer to vectors. In general, vectors are rows and columns of data"
   ]
  },
  {
   "cell_type": "markdown",
   "metadata": {},
   "source": [
    ">**Ex. 2.2.2**: Using `numpy`, compute:\n",
    "1. `2 * [2, 3]`,\n",
    "2. `[3, 8] + [6, 1]`,\n",
    "3. `[3, 8] * [6, 1]` and\n",
    "4. `[3, 8] · [6, 1]` (dot product)\n",
    "5. `[3, 8, 0] x [6, 1, 0]` (cross product)"
   ]
  },
  {
   "cell_type": "markdown",
   "metadata": {},
   "source": [
    ">**Ex. 2.2.3**: Imagine you have two vectors. What does it mean that the dot product between them is zero or very close to zero? What if it's very large? Intuitively, what does the dot product then measure?\n",
    "\n",
    "If dot product is zero, or close to zero, then that means that the vectors essesntially cancel each other out. Dot product is sort of like the force sum of two vectors"
   ]
  },
  {
   "cell_type": "code",
   "execution_count": 4,
   "metadata": {},
   "outputs": [
    {
     "name": "stdout",
     "output_type": "stream",
     "text": [
      "[4 6]\n",
      "[9 9]\n",
      "[18  8]\n",
      "26\n",
      "[  0   0 -45]\n"
     ]
    }
   ],
   "source": [
    "import numpy as np\n",
    "\n",
    "print(np.multiply(2, [2,3]))\n",
    "print(np.add([3,8],[6,1]))\n",
    "print(np.multiply([3,8],[6,1]))\n",
    "print(np.dot([3,8],[6,1]))\n",
    "print(np.cross([3,8,0],[6,1,0]))"
   ]
  },
  {
   "cell_type": "markdown",
   "metadata": {},
   "source": [
    ">**Ex. 2.2.4**: In Data Science, we often think of matrices as (usually two-dimensional) containers for data. Let's say we collect $N=500$ data points, that each has $M=10$ features. We can loslessly represent that data using an $N \\times M$ matrix, that is a matrix that has a row for each datapoint and a column for each feature. In fact, let's just go ahead and do that by altering the code of the `get_x_y` function from before a little bit.\n",
    ">\n",
    ">*Note: `numpy` has an object type called `matrix` but we rarely use that. Instead, we represent matrices as a `numpy` object type called `array`.*"
   ]
  },
  {
   "cell_type": "code",
   "execution_count": 5,
   "metadata": {
    "ExecuteTime": {
     "end_time": "2019-01-18T07:49:55.947679Z",
     "start_time": "2019-01-18T07:49:46.008308Z"
    }
   },
   "outputs": [
    {
     "name": "stdout",
     "output_type": "stream",
     "text": [
      "Retrieved 25 posts from page \n",
      "Retrieved 25 posts from page t3_aj9522\n",
      "Retrieved 25 posts from page t3_ajctyr\n",
      "Retrieved 25 posts from page t3_aiuqi0\n",
      "Retrieved 25 posts from page t3_aj26rw\n",
      "Retrieved 25 posts from page t3_aiz05d\n",
      "Retrieved 25 posts from page t3_aj50i8\n",
      "Retrieved 25 posts from page t3_aipdaj\n",
      "Retrieved 25 posts from page None\n",
      "Retrieved 25 posts from page t3_aj9522\n",
      "Retrieved 25 posts from page t3_ajctyr\n",
      "Retrieved 25 posts from page t3_aiuqi0\n",
      "Retrieved 25 posts from page t3_aj26rw\n",
      "Retrieved 25 posts from page t3_aiz05d\n",
      "Retrieved 25 posts from page t3_aj50i8\n",
      "Retrieved 25 posts from page t3_aipdaj\n",
      "Retrieved 25 posts from page None\n",
      "Retrieved 25 posts from page t3_aj9522\n",
      "Retrieved 25 posts from page t3_ajctyr\n",
      "Retrieved 25 posts from page t3_aiuqi0\n",
      "[[ 1835 24487 24487 ...     0     2     0]\n",
      " [  241  6328  6328 ...     0     3     0]\n",
      " [ 1829 12483 12483 ...     0     2     0]\n",
      " ...\n",
      " [    2    21    21 ...     0     0     0]\n",
      " [   46    47    47 ...     0     0     0]\n",
      " [   32    51    51 ...     0     1     0]]\n"
     ]
    }
   ],
   "source": [
    "import requests as rq\n",
    "def get_data_matrix(subreddit, N, count=25):\n",
    "    \n",
    "    def _get_data(subreddit, count, after):\n",
    "        url = \"https://www.reddit.com/r/%s/.json?count=%d&after=%s\" % (subreddit, count, after)\n",
    "        data = rq.get(url, headers = {'User-agent': 'sneakybot'}).json()\n",
    "        print(\"Retrieved %d posts from page %s\" % (count, after))\n",
    "        return data\n",
    "    \n",
    "    after = \"\"\n",
    "\n",
    "    X = []\n",
    "    for n in range(N//count):\n",
    "        data = _get_data(subreddit, count, after)\n",
    "        for d in data['data']['children']:\n",
    "            X.append([\n",
    "                int(d['data']['num_comments']),\n",
    "                int(d['data']['score']),\n",
    "                int(d['data']['ups']),\n",
    "                int(d['data']['downs']),\n",
    "                len(d['data']['selftext']),\n",
    "                len(d['data']['title']),\n",
    "                int(d['data']['is_original_content']),\n",
    "                int(d['data']['spoiler']),\n",
    "                int(d['data']['num_crossposts']),\n",
    "                int(d['data']['is_video'])\n",
    "            ])\n",
    "        after = data['data']['after']\n",
    "\n",
    "    return np.array(X)\n",
    "                          \n",
    "X = get_data_matrix(\"news\", 500, count=25)\n",
    "print(X)"
   ]
  },
  {
   "cell_type": "code",
   "execution_count": 13,
   "metadata": {
    "ExecuteTime": {
     "end_time": "2019-01-18T07:49:57.572095Z",
     "start_time": "2019-01-18T07:49:57.567762Z"
    }
   },
   "outputs": [
    {
     "name": "stdout",
     "output_type": "stream",
     "text": [
      "[ 2.71480823e+07  7.03727090e+06  1.37292901e+07  3.51298000e+07\n",
      "  7.57276279e+06  4.78645063e+07  2.78787000e+05  1.09551159e+07\n",
      "  6.97802169e+07  1.16924722e+06  4.49424690e+06  7.31814087e+06\n",
      "  1.97315712e+06  1.30485602e+06  6.25450989e+05  4.55793932e+06\n",
      "  4.23175333e+04  7.00587567e+05  4.14810967e+05  5.07322010e+07\n",
      "  1.22686630e+06  2.36494667e+04  4.59063767e+05  1.08962433e+05\n",
      "  1.19844833e+05  4.44138167e+05  7.77558567e+05  2.95865267e+05\n",
      "  1.41233667e+04  1.39537333e+04  2.71398327e+06  5.56010000e+03\n",
      "  8.92271667e+04  8.25043667e+04  8.93250000e+03  2.02695333e+04\n",
      "  9.59873333e+04  2.70498667e+05  6.99630333e+04 -3.71533333e+02\n",
      "  5.76900333e+04  2.70940000e+03  1.08346667e+03  1.15580000e+04\n",
      "  2.63076667e+03 -4.26223333e+03 -6.75466667e+02  2.79806667e+03\n",
      "  3.98919389e+05 -3.54476667e+03  8.83182067e+05 -3.38880000e+03\n",
      "  2.98170000e+04  3.51529681e+07  3.86589467e+05  5.42513800e+05\n",
      "  1.13029833e+05  1.15603333e+04 -5.69426667e+03  1.02627967e+05\n",
      "  6.45900000e+04  8.78000000e+03  1.25125667e+04  3.99905000e+04\n",
      "  3.78159193e+06  4.38127667e+04  4.46877667e+04  1.26683667e+04\n",
      "  6.33219623e+06  1.92328667e+04  1.05896567e+05  1.97056667e+03\n",
      "  6.24523389e+05  1.43043333e+04  8.29806539e+06 -3.88736667e+03\n",
      "  1.26855089e+05  7.83820394e+06  3.89151367e+05 -5.58860000e+03\n",
      "  7.52296667e+03  2.18804156e+05 -3.66410000e+03 -1.68208667e+04\n",
      "  5.71332222e+03 -6.04050000e+03  7.41192712e+06  2.76285845e+07\n",
      " -1.24700000e+03  2.19660000e+03  4.72403333e+03  5.60289362e+06\n",
      "  9.74600667e+04  1.67373363e+06  1.10182200e+05 -2.05660000e+03\n",
      "  5.79342000e+04  1.36054667e+04  3.63343000e+04  4.87767889e+04\n",
      "  2.07798547e+07  7.46026000e+04 -1.20516333e+04 -9.26606667e+03\n",
      "  3.98049700e+06  3.79933333e+04 -1.76853333e+03 -4.21394444e+03\n",
      "  6.08632667e+04 -5.89180000e+03  5.64236667e+03 -9.68066667e+02\n",
      "  4.25670000e+03  1.00446400e+05  1.01025032e+08 -1.06523000e+04\n",
      "  1.22286342e+06  3.64943933e+05  6.59687000e+04  5.68250600e+06\n",
      "  1.35662333e+04  2.76899000e+04  1.50068333e+04  1.41417600e+05\n",
      "  4.17712667e+04  4.12583000e+04  2.89614351e+06  3.85334763e+06\n",
      "  2.38479800e+05  2.21100000e+02  9.16953333e+03 -2.94023333e+03\n",
      "  1.49251920e+06  1.99103667e+04  1.37336190e+06  4.85246467e+05\n",
      "  1.39717667e+04  1.46083333e+03  2.91831000e+04  4.98700222e+04\n",
      "  2.36047567e+05  4.06797779e+07  1.53275767e+05  7.48740000e+04\n",
      "  7.88983333e+03  2.50294367e+05  4.49870667e+04  5.22399667e+04\n",
      "  9.29173300e+05 -1.14604667e+04  2.98923000e+04  1.37328467e+05\n",
      "  5.14609036e+06  1.94321133e+05  4.99888667e+04  4.50868020e+07\n",
      "  6.52675000e+04  8.95630000e+03  2.49213222e+04  9.23035889e+04\n",
      "  2.04274333e+04  7.59609367e+05  1.77943133e+05 -1.55633667e+04\n",
      "  2.33106600e+05  4.77931667e+04  3.52333589e+05  7.14271107e+07\n",
      "  6.81037000e+04  2.06415000e+04  4.07138190e+06  1.31726000e+04\n",
      "  4.77334000e+04  1.52192337e+06  2.26293667e+04  7.09033267e+05\n",
      "  1.32148456e+05  7.65553333e+04  9.40793333e+03  6.48075167e+05\n",
      "  2.60459763e+06  2.67315467e+05  2.05564733e+05  3.81250000e+03\n",
      "  3.00086667e+03 -3.19983333e+03  8.65638889e+04  2.71682075e+07\n",
      "  7.04498007e+06  1.37305255e+07  3.51365084e+07  7.57511622e+06\n",
      "  4.78566799e+07  2.78787000e+05  1.09551159e+07  6.97768627e+07\n",
      "  1.16801186e+06  4.49648303e+06  7.31925893e+06  1.97427519e+06\n",
      "  1.29926569e+06  6.18742589e+05  4.56352966e+06  4.23175333e+04\n",
      "  6.97233367e+05  4.12574833e+05  5.07344372e+07  1.23245663e+06\n",
      "  2.36494667e+04  4.56827633e+05  1.06726300e+05  1.17608700e+05\n",
      "  4.44138167e+05  7.82030833e+05  2.96983333e+05  1.41233667e+04\n",
      "  1.61898667e+04  2.72180973e+06  7.79623333e+03  9.14633000e+04\n",
      "  7.91501667e+04  8.93250000e+03  1.69153333e+04  1.00459600e+05\n",
      "  2.73852867e+05  7.66714333e+04  7.46533333e+02  6.32803667e+04\n",
      "  2.70940000e+03 -3.46000000e+01  1.49122000e+04  2.63076667e+03\n",
      " -4.26223333e+03 -6.75466667e+02  1.68000000e+03  4.00037456e+05\n",
      " -2.42670000e+03  8.82064000e+05 -3.38880000e+03  2.86989333e+04\n",
      "  3.51596765e+07  3.84353333e+05  5.36923467e+05  1.11911767e+05\n",
      "  1.15603333e+04 -5.69426667e+03  1.04864100e+05  6.68261333e+04\n",
      "  8.78000000e+03  1.81029000e+04  4.22266333e+04  3.77711967e+06\n",
      "  4.38127667e+04  4.91600333e+04  1.37864333e+04  6.33219623e+06\n",
      "  1.81148000e+04  1.07014633e+05  1.97056667e+03  6.32349856e+05\n",
      "  1.43043333e+04  8.30030152e+06 -2.76930000e+03  1.29091222e+05\n",
      "  7.84044008e+06  3.88033300e+05 -7.82473333e+03  9.64180000e+03\n",
      "  2.23276422e+05 -3.66410000e+03 -1.69381667e+04  5.71332222e+03\n",
      " -6.04050000e+03  7.40969099e+06  2.76218761e+07 -1.24700000e+03\n",
      "  1.07853333e+03  6.96016667e+03  5.60289362e+06  9.29878000e+04\n",
      "  1.67149750e+06  1.13536400e+05 -3.17466667e+03  5.68161333e+04\n",
      "  1.36054667e+04  3.96885000e+04  4.76587222e+04  2.07820908e+07\n",
      "  7.01303333e+04 -1.31697000e+04 -9.26606667e+03  3.98608733e+06\n",
      "  3.46391333e+04  2.70373333e+03 -4.21394444e+03  6.42174667e+04\n",
      " -7.00986667e+03  6.76043333e+03 -2.08613333e+03  4.25670000e+03\n",
      "  9.82102667e+04  1.01022796e+08 -1.28884333e+04  1.22174536e+06\n",
      "  3.63825867e+05  6.70867667e+04  5.68362407e+06  1.35662333e+04\n",
      "  2.99260333e+04  1.83610333e+04  1.47007933e+05  3.84170667e+04\n",
      "  4.23763667e+04  2.89726158e+06  3.85558377e+06  2.41834000e+05\n",
      "  2.21100000e+02  5.81533333e+03 -2.94023333e+03  1.48916500e+06\n",
      "  2.32645667e+04  1.37447997e+06  4.81892267e+05  1.28537000e+04\n",
      "  2.57890000e+03  3.25373000e+04  4.98700222e+04  2.38283700e+05\n",
      "  4.06786598e+07  1.51039633e+05  7.15198000e+04  1.12440333e+04\n",
      "  2.48058233e+05  4.38690000e+04  5.55941667e+04  9.36999767e+05\n",
      " -1.14604667e+04  2.76561667e+04  1.41800733e+05  5.14720842e+06\n",
      "  1.96557267e+05  4.43985333e+04  4.50879200e+07  6.07952333e+04\n",
      "  1.45466333e+04  2.71574556e+04  9.00674556e+04  2.48997000e+04\n",
      "  7.60727433e+05  1.73470867e+05 -1.55633667e+04  2.34224667e+05\n",
      "  4.55570333e+04  3.55687789e+05  7.14282288e+07  6.69856333e+04\n",
      "  1.72873000e+04  4.06579157e+06  1.09364667e+04  4.66153333e+04\n",
      "  1.51745110e+06  2.03932333e+04  7.10151333e+05  1.33266522e+05\n",
      "  7.43192000e+04  1.05260000e+04  6.45839033e+05  2.60906990e+06\n",
      "  2.72905800e+05  2.08918933e+05  3.81250000e+03 -1.47140000e+03\n",
      " -9.63700000e+02  8.76819556e+04  2.71559088e+07  7.02161797e+06\n",
      "  1.37260532e+07  3.51398626e+07  7.57176202e+06  4.78645063e+07\n",
      "  2.78787000e+05  1.09562340e+07  6.97712723e+07  1.16365689e+06\n",
      "  4.49548227e+06  7.31255053e+06  1.97539326e+06  1.30709216e+06\n",
      "  6.13269556e+05  4.56911999e+06  4.22002333e+04  6.98351433e+05\n",
      "  4.16929800e+05  5.07299649e+07  1.22351210e+06  2.36494667e+04\n",
      "  4.59063767e+05  1.10080500e+05  1.17608700e+05  4.46374300e+05\n",
      "  7.78676633e+05  2.98101400e+05  1.41233667e+04  1.50718000e+04\n",
      "  2.72069167e+06  7.79623333e+03  9.03452333e+04  7.91501667e+04\n",
      "  6.69636667e+03  2.02695333e+04  9.71054000e+04  2.69380600e+05\n",
      "  7.10811000e+04  7.46533333e+02  5.76900333e+04  2.70940000e+03\n",
      "  1.08346667e+03  1.15580000e+04  3.74883333e+03 -4.26223333e+03\n",
      " -6.75466667e+02  1.68000000e+03  3.98919389e+05 -2.42670000e+03\n",
      "  8.84300133e+05 -3.38880000e+03  2.42266667e+04  3.51574403e+07\n",
      "  3.85471400e+05  5.35805400e+05  1.10793700e+05  1.26784000e+04\n",
      " -5.69426667e+03  1.09336367e+05  6.23538667e+04  8.78000000e+03\n",
      "  1.92209667e+04  4.22266333e+04  3.77711967e+06  4.38127667e+04\n",
      "  4.24516333e+04  1.26683667e+04  6.33107817e+06  1.81148000e+04\n",
      "  1.03660433e+05 -2.65566667e+02  6.32349856e+05  1.76585333e+04\n",
      "  8.30365572e+06 -3.88736667e+03  1.26855089e+05  7.84267621e+06\n",
      "  3.89151367e+05 -7.82473333e+03  9.64180000e+03  2.17686089e+05\n",
      " -3.78140000e+03 -1.69381667e+04  4.59525556e+03 -6.04050000e+03\n",
      "  7.41080906e+06  2.76252303e+07 -2.36506667e+03  3.31466667e+03\n",
      "  6.96016667e+03  5.61072009e+06  9.74600667e+04  1.67037943e+06\n",
      "  1.13536400e+05 -3.17466667e+03  5.23438667e+04  1.69596667e+04\n",
      "  3.74523667e+04  4.76587222e+04]\n"
     ]
    },
    {
     "data": {
      "image/png": "[encoded data removed]",
      "text/plain": [
       "<Figure size 432x288 with 1 Axes>"
      ]
     },
     "metadata": {
      "needs_background": "light"
     },
     "output_type": "display_data"
    }
   ],
   "source": [
    "cov_x = np.cov(X)\n",
    "print(cov_x[1])\n",
    "plt.hist(cov_x[0])\n",
    "plt.show()\n",
    "#huge values on back end, small in front\n",
    "#mine = plt.hist(cov_x)"
   ]
  },
  {
   "cell_type": "markdown",
   "metadata": {},
   "source": [
    ">Here are the data, but how can we summarize them? Let's start by finding the so-called *covariance matrix*.\n",
    "1. Use the `np.cov` method on `X` to get its $10 \\times 10$ covariance matrix.\n",
    "2. Do you notice any characteristics of this matrix that are interesting? Comment.\n",
    "3. Plot the distribution of covariances, e.g. using a histogram."
   ]
  },
  {
   "cell_type": "markdown",
   "metadata": {},
   "source": [
    ">**Ex. 2.2.5**: There's another use of the covariance matrix, other than just learning how features co-vary. In fact, it turns out that the *eigenvectors* of the covariance matrix are a set of mutually orthogonal vectors, that point in the directions of greatest variance in the data. The eigenvector with the greatest *eigenvalue* points along the direction of greatest variation, and so on. This is pretty neat, because if we know along which axes the data is most stretched, we can figure out how best to project it when visualizing it in 2D as a scatter plot! This whole procedure has a name: **Principal Component Analysis** (PCA) and it was invented by Karl Pearson in 1901. It belongs to a powerful class of linear algebra methods called **Matrix Factorization** methods. Ok, so rather than spending too much time on the math of PCA, let's just use the `sklearn` implementation and fit a PCA on `X`."
   ]
  },
  {
   "cell_type": "code",
   "execution_count": 22,
   "metadata": {
    "ExecuteTime": {
     "end_time": "2019-01-18T08:30:52.583430Z",
     "start_time": "2019-01-18T08:30:52.577358Z"
    }
   },
   "outputs": [
    {
     "name": "stdout",
     "output_type": "stream",
     "text": [
      "PCA(copy=True, iterated_power='auto', n_components=10, random_state=None,\n",
      "  svd_solver='auto', tol=0.0, whiten=False)\n",
      "hey\n"
     ]
    }
   ],
   "source": [
    "from sklearn.decomposition import PCA\n",
    "pca = PCA(n_components=10)\n",
    "pca.fit(X)\n",
    "print(pca)\n"
   ]
  },
  {
   "cell_type": "markdown",
   "metadata": {},
   "source": [
    ">1. Explain what the matrix you get when you call `pca.components_` means.\n",
    "2. Explain what the vector you get when you call `pca.explained_variance_ratio_` means. What insights about our data can we extract from this?\n",
    "3. Transform X using the PCA you just fitted, and scatter plot the first two dimensions of the transformed data. Please comment on what you see.\n",
    "3. Scatter plot dimensions 1 and 3 against each other. See something interesting now? What would be a way to figure out what the clusters represent?"
   ]
  },
  {
   "cell_type": "markdown",
   "metadata": {},
   "source": [
    "### Part 3: Statistics (DSFS Chapter 5)"
   ]
  },
  {
   "cell_type": "markdown",
   "metadata": {},
   "source": [
    ">**Ex. 2.3.1**: Take a vector `a = [1, 3, 2, 5, 3, 1, 5, 1, 9000]`:\n",
    "1. Compute the mean of `a` using `numpy`.\n",
    "2. How is median defined? Compute the median of `a` using `numpy`.\n",
    "3. For `a`, why might it make sense to take the median more seriously than the mean?"
   ]
  },
  {
   "cell_type": "markdown",
   "metadata": {},
   "source": [
    ">**Ex. 2.3.2**: Using the same vector `a`:\n",
    "1. How is *range* defined? Compute it.\n",
    "2. How is *variance* defined? How do variance and standard deviation relate? Compute them both. Which value is greater?\n",
    "3. What is the interquartile range? Compute it, and explain why it might be useful."
   ]
  },
  {
   "cell_type": "markdown",
   "metadata": {},
   "source": [
    ">**Ex. 2.3.3**: Covariance and correlation are both measures of trend similarity.\n",
    "1. How do they relate?\n",
    "2. Compute the correlation between `a` and `b = [0, 4, 1, 6, 2, 0, 6, 0, 2]`.\n",
    "3. How does that result change if you remove the last data-point from each list? Why? What *term* do we use for that last point?"
   ]
  },
  {
   "cell_type": "markdown",
   "metadata": {},
   "source": [
    ">**Ex. 2.3.4**: People often use the p-value to gauge the *significance* of a given result. If the p-value of a result is low, the result is significant (which is good) and vice versa. Intuitively, the p-value measures the probabilty that a result *could have been obtained at random*, so you can imagine that if you find that the p-value for some result is HIGH (close to one), regardless of how cool it is, people will not care because, well, you just got lucky with that measurement, didn't you? I created two lists for you below, and you are going to find out if they are *significantly* correlated. You will be using the significance threshold 0.05 (which is arbitrary, disputed, yet very standard in the literature)."
   ]
  },
  {
   "cell_type": "code",
   "execution_count": null,
   "metadata": {
    "ExecuteTime": {
     "end_time": "2019-01-24T09:50:21.670665Z",
     "start_time": "2019-01-24T09:50:21.666647Z"
    }
   },
   "outputs": [],
   "source": [
    "# You can incresae this to make the data more noisy (but let it be 4 for now)\n",
    "noise_level = 4\n",
    "\n",
    "# I'm just seeding the random number generator here, so we can compare results\n",
    "np.random.seed(0)\n",
    "\n",
    "# This is your data\n",
    "x = np.arange(0, 20) + np.random.normal(size=20) * noise_level\n",
    "y = np.arange(0, 20) + np.random.normal(size=20) * noise_level"
   ]
  },
  {
   "cell_type": "code",
   "execution_count": null,
   "metadata": {
    "ExecuteTime": {
     "end_time": "2019-01-24T09:55:18.924607Z",
     "start_time": "2019-01-24T09:55:18.922022Z"
    }
   },
   "outputs": [],
   "source": [
    "# Why not make a scatter plot here, to see what you're working with?"
   ]
  },
  {
   "cell_type": "markdown",
   "metadata": {},
   "source": [
    ">1. If you plotted `x` and `y` against each other, you probably noted that it looks like they correlate. Use the method `pearsonr` from `scipy.stats` to **compute the correlation coefficient**. Notice that the method also gives you the p-value of the correlation. For now, we ignore this.\n",
    ">2. So how do we figure out if this correlation strength is significant? \n",
    "The devil's advocate would surely argue, that you could obtain a similar *or stronger* correlation between completely random data.\n",
    "Well, fuck you advocate, cause we can SHOW that if you randomize the data, the correlation strength is almost always lower!\n",
    "To put this in stat-lingo, the devil's advocate believes in the so-called *Null Hypothesis*–that your result is no different from random–and the way WE reject this acvocate's pessimistic hypothesis, is simply by comparing OUR obtained correlation strength to one obtained from data we know is random, namely the *Null model*.\n",
    "The Null model, in this case just a randomized version of our existing data. \n",
    "Your job, now, is to take `x` and `y`, randomize them (each independently) and compute the correlation coefficient.\n",
    ">3. In 2. you probably found that the correlation coefficient of the Null model was lower than that of your real data.\n",
    "But that was just one example of the Null hypothesis being wrong.\n",
    "The devil's advocate needs more evidence.\n",
    "Compute again the correlation coefficient of the Null model, but do it in a `for` loop 10000 times, and report the fraction of times that this correlation coefficient is greater or equal to the correlation coefficient of your real data.\n",
    "Maybe it will happen in 0% of randomizaion trials, maybe 2%, but hopefully not more than 5%.\n",
    "Yes, you guessed, it, this fraction is indeed the p-value.\n",
    "So is it really significant?\n",
    ">4. Plot the p-value as a function of `noise_level` (let `noise_level` vary between 1 and 50), so we can see how our result becomes less and less significant as we increase the noise. Two questions: (1) at which value of `noise_level` does the correlation become insignificant, and (2) which p-value does the curve saturate at for large `noise_level`?"
   ]
  }
 ],
 "metadata": {
  "kernelspec": {
   "display_name": "Python 3",
   "language": "python",
   "name": "python3"
  },
  "language_info": {
   "codemirror_mode": {
    "name": "ipython",
    "version": 3
   },
   "file_extension": ".py",
   "mimetype": "text/x-python",
   "name": "python",
   "nbconvert_exporter": "python",
   "pygments_lexer": "ipython3",
   "version": "3.7.2"
  },
  "nav_menu": {},
  "toc": {
   "base_numbering": 1,
   "nav_menu": {},
   "number_sections": false,
   "sideBar": true,
   "skip_h1_title": false,
   "title_cell": "Table of Contents",
   "title_sidebar": "Contents",
   "toc_cell": false,
   "toc_position": {},
   "toc_section_display": "block",
   "toc_window_display": false
  },
  "varInspector": {
   "cols": {
    "lenName": 16,
    "lenType": 16,
    "lenVar": 40
   },
   "kernels_config": {
    "python": {
     "delete_cmd_postfix": "",
     "delete_cmd_prefix": "del ",
     "library": "var_list.py",
     "varRefreshCmd": "print(var_dic_list())"
    },
    "r": {
     "delete_cmd_postfix": ") ",
     "delete_cmd_prefix": "rm(",
     "library": "var_list.r",
     "varRefreshCmd": "cat(var_dic_list()) "
    }
   },
   "types_to_exclude": [
    "module",
    "function",
    "builtin_function_or_method",
    "instance",
    "_Feature"
   ],
   "window_display": false
  }
 },
 "nbformat": 4,
 "nbformat_minor": 2
}
